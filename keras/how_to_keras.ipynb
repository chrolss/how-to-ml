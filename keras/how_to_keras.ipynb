{
 "cells": [
  {
   "cell_type": "code",
   "execution_count": 3,
   "metadata": {},
   "outputs": [],
   "source": [
    "import pandas as pd\n",
    "import numpy as np\n",
    "from sklearn.model_selection import train_test_split\n",
    "from sklearn.metrics import mean_squared_error\n",
    "from sklearn.preprocessing import StandardScaler"
   ]
  },
  {
   "cell_type": "code",
   "execution_count": 23,
   "metadata": {},
   "outputs": [],
   "source": [
    "from keras import Sequential\n",
    "from keras.layers import Dense\n",
    "from keras.layers import Dropout\n",
    "from keras.callbacks import EarlyStopping"
   ]
  },
  {
   "cell_type": "code",
   "execution_count": 13,
   "metadata": {},
   "outputs": [],
   "source": [
    "import requests\n",
    "import io\n",
    "test_values = requests.get(\"https://s3.amazonaws.com/drivendata/data/54/public/test_values.csv\").content\n",
    "train_values = requests.get(\"https://s3.amazonaws.com/drivendata/data/54/public/train_values.csv\").content\n",
    "train_labels = requests.get(\"https://s3.amazonaws.com/drivendata/data/54/public/train_labels.csv\").content\n",
    "X = pd.read_csv(io.StringIO(train_values.decode('utf-8')))\n",
    "y = pd.read_csv(io.StringIO(train_labels.decode('utf-8')))"
   ]
  },
  {
   "cell_type": "markdown",
   "metadata": {},
   "source": [
    "Categorical features and label encoding"
   ]
  },
  {
   "cell_type": "code",
   "execution_count": 14,
   "metadata": {},
   "outputs": [],
   "source": [
    "X.thal = X['thal'].astype('category')\n",
    "X = pd.concat([X, pd.get_dummies(X.thal, 'thal', drop_first=True)], axis=1)\n",
    "X = X.drop(['thal'], axis=1)\n",
    "\n",
    "y.heart_disease_present = y.heart_disease_present.astype('category')"
   ]
  },
  {
   "cell_type": "code",
   "execution_count": 15,
   "metadata": {},
   "outputs": [],
   "source": [
    "df = pd.merge(left=X, right=y, how='left', on='patient_id')"
   ]
  },
  {
   "cell_type": "code",
   "execution_count": 17,
   "metadata": {},
   "outputs": [],
   "source": [
    "X_train, X_test, y_train, y_test = train_test_split(df.drop(['patient_id', 'heart_disease_present'], axis=1), df.heart_disease_present, test_size=.3, stratify=df.heart_disease_present)"
   ]
  },
  {
   "cell_type": "markdown",
   "metadata": {},
   "source": [
    "Setup the neural network"
   ]
  },
  {
   "cell_type": "code",
   "execution_count": 29,
   "metadata": {},
   "outputs": [],
   "source": [
    "n_rows, n_cols = X_train.shape\n",
    "scaler = StandardScaler()\n",
    "Xnp = scaler.fit_transform(X_train)\n",
    "Xnp = Xnp.reshape(-1, n_cols)\n",
    "Ynp = pd.get_dummies(y_train).values"
   ]
  },
  {
   "cell_type": "code",
   "execution_count": 26,
   "metadata": {},
   "outputs": [],
   "source": [
    "model = Sequential()\n",
    "model.add(Dense(30, activation='relu', input_shape=(n_cols, )))\n",
    "model.add(Dropout(0.2))\n",
    "model.add(Dense(50, activation='relu'))\n",
    "model.add(Dropout(0.2))\n",
    "model.add(Dense(2, activation='softmax'))\n",
    "model.compile(optimizer='adam', loss='categorical_crossentropy', metrics=['accuracy'])\n",
    "early_stopping_monitor = EarlyStopping(patience=2)"
   ]
  },
  {
   "cell_type": "code",
   "execution_count": 35,
   "metadata": {},
   "outputs": [
    {
     "name": "stdout",
     "output_type": "stream",
     "text": [
      "Epoch 1/50\n",
      "126/126 [==============================] - 0s 111us/step - loss: 0.1085 - accuracy: 0.9603\n",
      "Epoch 2/50\n",
      "126/126 [==============================] - 0s 103us/step - loss: 0.0985 - accuracy: 0.9603\n",
      "Epoch 3/50\n",
      "126/126 [==============================] - 0s 95us/step - loss: 0.0972 - accuracy: 0.9683\n",
      "Epoch 4/50\n",
      "126/126 [==============================] - 0s 103us/step - loss: 0.1143 - accuracy: 0.9524\n",
      "Epoch 5/50\n",
      "126/126 [==============================] - 0s 87us/step - loss: 0.1744 - accuracy: 0.9365\n",
      "Epoch 6/50\n",
      "126/126 [==============================] - 0s 87us/step - loss: 0.0997 - accuracy: 0.9762\n",
      "Epoch 7/50\n",
      "126/126 [==============================] - 0s 103us/step - loss: 0.1047 - accuracy: 0.9603\n",
      "Epoch 8/50\n",
      "126/126 [==============================] - 0s 151us/step - loss: 0.1115 - accuracy: 0.9683\n",
      "Epoch 9/50\n",
      "126/126 [==============================] - 0s 95us/step - loss: 0.1522 - accuracy: 0.9365\n",
      "Epoch 10/50\n",
      "126/126 [==============================] - 0s 111us/step - loss: 0.1044 - accuracy: 0.9603\n",
      "Epoch 11/50\n",
      " 32/126 [======>.......................] - ETA: 0s - loss: 0.0467 - accuracy: 0.9688"
     ]
    },
    {
     "name": "stderr",
     "output_type": "stream",
     "text": [
      "C:\\Users\\colsson\\AppData\\Local\\Continuum\\anaconda3\\envs\\machinelearning\\lib\\site-packages\\keras\\callbacks\\callbacks.py:846: RuntimeWarning: Early stopping conditioned on metric `val_loss` which is not available. Available metrics are: loss,accuracy\n",
      "  (self.monitor, ','.join(list(logs.keys()))), RuntimeWarning\n"
     ]
    },
    {
     "name": "stdout",
     "output_type": "stream",
     "text": [
      "126/126 [==============================] - 0s 159us/step - loss: 0.0651 - accuracy: 0.9762\n",
      "Epoch 12/50\n",
      "126/126 [==============================] - 0s 159us/step - loss: 0.1148 - accuracy: 0.9444\n",
      "Epoch 13/50\n",
      "126/126 [==============================] - 0s 135us/step - loss: 0.1070 - accuracy: 0.9603\n",
      "Epoch 14/50\n",
      "126/126 [==============================] - 0s 103us/step - loss: 0.0867 - accuracy: 0.9683\n",
      "Epoch 15/50\n",
      "126/126 [==============================] - 0s 103us/step - loss: 0.1146 - accuracy: 0.9683\n",
      "Epoch 16/50\n",
      "126/126 [==============================] - 0s 103us/step - loss: 0.1186 - accuracy: 0.9524\n",
      "Epoch 17/50\n",
      "126/126 [==============================] - 0s 95us/step - loss: 0.1267 - accuracy: 0.9524\n",
      "Epoch 18/50\n",
      "126/126 [==============================] - 0s 119us/step - loss: 0.1377 - accuracy: 0.9444\n",
      "Epoch 19/50\n",
      "126/126 [==============================] - 0s 127us/step - loss: 0.1075 - accuracy: 0.9524\n",
      "Epoch 20/50\n",
      "126/126 [==============================] - 0s 103us/step - loss: 0.1784 - accuracy: 0.9127\n",
      "Epoch 21/50\n",
      "126/126 [==============================] - 0s 135us/step - loss: 0.0719 - accuracy: 0.9921\n",
      "Epoch 22/50\n",
      "126/126 [==============================] - 0s 143us/step - loss: 0.0735 - accuracy: 0.9841\n",
      "Epoch 23/50\n",
      "126/126 [==============================] - 0s 135us/step - loss: 0.1098 - accuracy: 0.9524\n",
      "Epoch 24/50\n",
      "126/126 [==============================] - 0s 119us/step - loss: 0.0813 - accuracy: 0.9841\n",
      "Epoch 25/50\n",
      "126/126 [==============================] - 0s 111us/step - loss: 0.0762 - accuracy: 0.9841\n",
      "Epoch 26/50\n",
      "126/126 [==============================] - 0s 95us/step - loss: 0.1222 - accuracy: 0.9603\n",
      "Epoch 27/50\n",
      "126/126 [==============================] - 0s 119us/step - loss: 0.1408 - accuracy: 0.9365\n",
      "Epoch 28/50\n",
      "126/126 [==============================] - 0s 95us/step - loss: 0.1165 - accuracy: 0.9365\n",
      "Epoch 29/50\n",
      "126/126 [==============================] - 0s 95us/step - loss: 0.0760 - accuracy: 0.9921\n",
      "Epoch 30/50\n",
      "126/126 [==============================] - 0s 111us/step - loss: 0.1481 - accuracy: 0.9524\n",
      "Epoch 31/50\n",
      "126/126 [==============================] - 0s 103us/step - loss: 0.1298 - accuracy: 0.9524\n",
      "Epoch 32/50\n",
      "126/126 [==============================] - 0s 127us/step - loss: 0.1371 - accuracy: 0.9365\n",
      "Epoch 33/50\n",
      "126/126 [==============================] - 0s 143us/step - loss: 0.1476 - accuracy: 0.9603\n",
      "Epoch 34/50\n",
      "126/126 [==============================] - 0s 151us/step - loss: 0.1076 - accuracy: 0.9603\n",
      "Epoch 35/50\n",
      "126/126 [==============================] - 0s 111us/step - loss: 0.0814 - accuracy: 0.9683\n",
      "Epoch 36/50\n",
      "126/126 [==============================] - 0s 103us/step - loss: 0.0952 - accuracy: 0.9524\n",
      "Epoch 37/50\n",
      "126/126 [==============================] - 0s 95us/step - loss: 0.1376 - accuracy: 0.9286\n",
      "Epoch 38/50\n",
      "126/126 [==============================] - 0s 103us/step - loss: 0.1008 - accuracy: 0.9603\n",
      "Epoch 39/50\n",
      "126/126 [==============================] - 0s 87us/step - loss: 0.0904 - accuracy: 0.9841\n",
      "Epoch 40/50\n",
      "126/126 [==============================] - 0s 111us/step - loss: 0.0684 - accuracy: 0.9762\n",
      "Epoch 41/50\n",
      "126/126 [==============================] - 0s 103us/step - loss: 0.1023 - accuracy: 0.9683\n",
      "Epoch 42/50\n",
      "126/126 [==============================] - 0s 119us/step - loss: 0.0847 - accuracy: 0.9683\n",
      "Epoch 43/50\n",
      "126/126 [==============================] - 0s 103us/step - loss: 0.1291 - accuracy: 0.9444\n",
      "Epoch 44/50\n",
      "126/126 [==============================] - 0s 127us/step - loss: 0.0792 - accuracy: 0.9762\n",
      "Epoch 45/50\n",
      "126/126 [==============================] - 0s 119us/step - loss: 0.1215 - accuracy: 0.9444\n",
      "Epoch 46/50\n",
      "126/126 [==============================] - 0s 151us/step - loss: 0.0964 - accuracy: 0.9603\n",
      "Epoch 47/50\n",
      "126/126 [==============================] - 0s 127us/step - loss: 0.0982 - accuracy: 0.9762\n",
      "Epoch 48/50\n",
      "126/126 [==============================] - 0s 143us/step - loss: 0.0763 - accuracy: 0.9762\n",
      "Epoch 49/50\n",
      "126/126 [==============================] - 0s 95us/step - loss: 0.1030 - accuracy: 0.9762\n",
      "Epoch 50/50\n",
      "126/126 [==============================] - 0s 95us/step - loss: 0.0754 - accuracy: 0.9841\n"
     ]
    },
    {
     "data": {
      "text/plain": [
       "<keras.callbacks.callbacks.History at 0x257a253d2c8>"
      ]
     },
     "execution_count": 35,
     "metadata": {},
     "output_type": "execute_result"
    }
   ],
   "source": [
    "model.fit(Xnp, Ynp, epochs=50, callbacks=[early_stopping_monitor])"
   ]
  },
  {
   "cell_type": "markdown",
   "metadata": {},
   "source": [
    "Test the model accuracy"
   ]
  },
  {
   "cell_type": "code",
   "execution_count": 36,
   "metadata": {},
   "outputs": [
    {
     "name": "stdout",
     "output_type": "stream",
     "text": [
      "54/54 [==============================] - 0s 130us/step\n"
     ]
    }
   ],
   "source": [
    "Xev = scaler.transform(X_test)\n",
    "Xev = Xev.reshape(-1, n_cols)\n",
    "Yev = pd.get_dummies(y_test).values\n",
    "evaluation = model.evaluate(Xev, Yev, verbose=True)"
   ]
  },
  {
   "cell_type": "code",
   "execution_count": 37,
   "metadata": {},
   "outputs": [
    {
     "data": {
      "text/plain": [
       "[1.3784783372172602, 0.7592592835426331]"
      ]
     },
     "execution_count": 37,
     "metadata": {},
     "output_type": "execute_result"
    }
   ],
   "source": [
    "evaluation"
   ]
  },
  {
   "cell_type": "code",
   "execution_count": 70,
   "metadata": {},
   "outputs": [
    {
     "name": "stdout",
     "output_type": "stream",
     "text": [
      "1.3784782624053724\n"
     ]
    }
   ],
   "source": [
    "from sklearn.metrics import log_loss\n",
    "eval_preds = model.predict(Xev)\n",
    "print(log_loss(y_test, eval_preds))"
   ]
  },
  {
   "cell_type": "markdown",
   "metadata": {},
   "source": [
    "Make competition predictions"
   ]
  },
  {
   "cell_type": "code",
   "execution_count": 44,
   "metadata": {},
   "outputs": [],
   "source": [
    "tf = pd.read_csv(io.StringIO(test_values.decode('utf-8')))"
   ]
  },
  {
   "cell_type": "code",
   "execution_count": 45,
   "metadata": {},
   "outputs": [],
   "source": [
    "patient_id = tf.patient_id\n",
    "tf.thal = tf['thal'].astype('category')\n",
    "tf = pd.concat([tf, pd.get_dummies(tf.thal, 'thal', drop_first=True)], axis=1)\n",
    "tf = tf.drop('thal', axis=1)"
   ]
  },
  {
   "cell_type": "code",
   "execution_count": 46,
   "metadata": {},
   "outputs": [],
   "source": [
    "Xtf = scaler.transform(tf.drop('patient_id', axis=1))\n",
    "Xtf = Xtf.reshape(-1, n_cols)"
   ]
  },
  {
   "cell_type": "code",
   "execution_count": 47,
   "metadata": {},
   "outputs": [],
   "source": [
    "predictions = model.predict(Xtf)"
   ]
  },
  {
   "cell_type": "code",
   "execution_count": 49,
   "metadata": {},
   "outputs": [
    {
     "data": {
      "text/plain": [
       "(90, 2)"
      ]
     },
     "execution_count": 49,
     "metadata": {},
     "output_type": "execute_result"
    }
   ],
   "source": [
    "predictions.shape"
   ]
  },
  {
   "cell_type": "code",
   "execution_count": 60,
   "metadata": {},
   "outputs": [],
   "source": [
    "nn_preds_clean = []\n",
    "nn_preds_probs = []\n",
    "for i in range(len(predictions)):\n",
    "    nn_preds_clean.append(np.argmax(predictions[i, :]))\n",
    "    nn_preds_probs.append(predictions[i, np.argmax(predictions[i, :])])"
   ]
  },
  {
   "cell_type": "code",
   "execution_count": 66,
   "metadata": {},
   "outputs": [
    {
     "data": {
      "image/png": "[encoded data removed]",
      "text/plain": [
       "<Figure size 432x288 with 1 Axes>"
      ]
     },
     "metadata": {
      "needs_background": "light"
     },
     "output_type": "display_data"
    }
   ],
   "source": [
    "import matplotlib.pyplot as plt\n",
    "%matplotlib inline\n",
    "_ = plt.hist(nn_preds_clean, bins=2)"
   ]
  },
  {
   "cell_type": "code",
   "execution_count": null,
   "metadata": {},
   "outputs": [],
   "source": []
  }
 ],
 "metadata": {
  "kernelspec": {
   "display_name": "Python 3",
   "language": "python",
   "name": "python3"
  },
  "language_info": {
   "codemirror_mode": {
    "name": "ipython",
    "version": 3
   },
   "file_extension": ".py",
   "mimetype": "text/x-python",
   "name": "python",
   "nbconvert_exporter": "python",
   "pygments_lexer": "ipython3",
   "version": "3.7.4"
  }
 },
 "nbformat": 4,
 "nbformat_minor": 2
}
